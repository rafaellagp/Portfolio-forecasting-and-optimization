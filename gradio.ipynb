{
 "cells": [
  {
   "cell_type": "code",
   "execution_count": 1,
   "metadata": {},
   "outputs": [],
   "source": [
    "import gradio as gr\n",
    "import pickle\n",
    "from sklearn.ensemble import RandomForestClassifier"
   ]
  },
  {
   "cell_type": "code",
   "execution_count": 4,
   "metadata": {},
   "outputs": [
    {
     "name": "stdout",
     "output_type": "stream",
     "text": [
      "Running on local URL:  http://127.0.0.1:7860\n",
      "\n",
      "To create a public link, set `share=True` in `launch()`.\n"
     ]
    },
    {
     "data": {
      "text/html": [
       "<div><iframe src=\"http://127.0.0.1:7860/\" width=\"100%\" height=\"500\" allow=\"autoplay; camera; microphone; clipboard-read; clipboard-write;\" frameborder=\"0\" allowfullscreen></iframe></div>"
      ],
      "text/plain": [
       "<IPython.core.display.HTML object>"
      ]
     },
     "metadata": {},
     "output_type": "display_data"
    },
    {
     "name": "stdout",
     "output_type": "stream",
     "text": [
      "Running on local URL:  http://127.0.0.1:7861\n",
      "\n",
      "To create a public link, set `share=True` in `launch()`.\n"
     ]
    },
    {
     "data": {
      "text/html": [
       "<div><iframe src=\"http://127.0.0.1:7861/\" width=\"100%\" height=\"500\" allow=\"autoplay; camera; microphone; clipboard-read; clipboard-write;\" frameborder=\"0\" allowfullscreen></iframe></div>"
      ],
      "text/plain": [
       "<IPython.core.display.HTML object>"
      ]
     },
     "metadata": {},
     "output_type": "display_data"
    },
    {
     "ename": "NameError",
     "evalue": "name 'RandomForestClassifier' is not defined",
     "output_type": "error",
     "traceback": [
      "\u001b[0;31m---------------------------------------------------------------------------\u001b[0m",
      "\u001b[0;31mNameError\u001b[0m                                 Traceback (most recent call last)",
      "Cell \u001b[0;32mIn [4], line 14\u001b[0m\n\u001b[1;32m     10\u001b[0m app\u001b[39m.\u001b[39mlaunch()\n\u001b[1;32m     12\u001b[0m \u001b[39m# How to Deploy a Machine Learning Model on Gradio\u001b[39;00m\n\u001b[0;32m---> 14\u001b[0m clf \u001b[39m=\u001b[39m RandomForestClassifier(random_state\u001b[39m=\u001b[39m\u001b[39m42\u001b[39m)\n\u001b[1;32m     15\u001b[0m clf\u001b[39m.\u001b[39mfit(X_train, y_train) \n\u001b[1;32m     17\u001b[0m \u001b[39m# If you've fitted the model just type this to save it: Remember to change the file name\u001b[39;00m\n",
      "\u001b[0;31mNameError\u001b[0m: name 'RandomForestClassifier' is not defined"
     ]
    }
   ],
   "source": [
    "def greet_user(ticker):\n",
    "\treturn \"Hello \" + name + \" Welcome to Gradio!😎\"\n",
    "app =  gr.Interface(fn = greet_user, inputs=\"text\", outputs=\"text\")\n",
    "app.launch()\n",
    "def return_multiple(name, number):\n",
    "    result = \"Hi {}! 😎. The Mulitple of {} is {}\".format(name, number, round(number**2, 2))\n",
    "    return result\n",
    "\n",
    "app = gr.Interface(fn = return_multiple, inputs=[\"text\", gr.Slider(0, 50)], outputs=\"text\")\n",
    "app.launch()\n",
    "\n",
    "# How to Deploy a Machine Learning Model on Gradio\n",
    "\n",
    "clf = RandomForestClassifier(random_state=42)\n",
    "clf.fit(X_train, y_train) \n",
    "\n",
    "# If you've fitted the model just type this to save it: Remember to change the file name\n",
    "with open(\"filename.pkl\", \"wb\") as f:\n",
    "    pickle.dump(clf, f)  \n",
    "with open(\"filename.pkl\", \"rb\") as f:\n",
    "    clf  = pickle.load(f)\n",
    "def make_prediction(age, employment_status, bank_name, account_balance):\n",
    "    with open(\"filename.pkl\", \"rb\") as f:\n",
    "        clf  = pickle.load(f)\n",
    "        preds = clf.predict([[age, employment_status, bank_name, account_balance]])\n",
    "    if preds == 1:\n",
    "            return \"You are eligible for the loan\"\n",
    "    return \"You are not eligible for the loan\"\n",
    "\n",
    "#Create the input component for Gradio since we are expecting 4 inputs\n",
    "\n",
    "age_input = gr.Number(label = \"Enter the Age of the Individual\")\n",
    "employment_input = gr.Number(label= \"Enter Employement Status {1:For Employed, 2: For Unemployed}\")\n",
    "bank_input = gr.Textbox(label = \"Enter Bank Name\")\n",
    "account_input = gr.Number(label = \"Enter your account Balance:\")\n",
    "# We create the output\n",
    "output = gr.Textbox()\n",
    "\n",
    "\n",
    "app = gr.Interface(fn = make_prediction, inputs=[age_input, employment_input, bank_input, account_input], outputs=output)\n",
    "app.launch()"
   ]
  },
  {
   "cell_type": "code",
   "execution_count": null,
   "metadata": {},
   "outputs": [],
   "source": []
  }
 ],
 "metadata": {
  "kernelspec": {
   "display_name": "Python 3.10.8 64-bit",
   "language": "python",
   "name": "python3"
  },
  "language_info": {
   "codemirror_mode": {
    "name": "ipython",
    "version": 3
   },
   "file_extension": ".py",
   "mimetype": "text/x-python",
   "name": "python",
   "nbconvert_exporter": "python",
   "pygments_lexer": "ipython3",
   "version": "3.10.8"
  },
  "orig_nbformat": 4,
  "vscode": {
   "interpreter": {
    "hash": "aee8b7b246df8f9039afb4144a1f6fd8d2ca17a180786b69acc140d282b71a49"
   }
  }
 },
 "nbformat": 4,
 "nbformat_minor": 2
}
